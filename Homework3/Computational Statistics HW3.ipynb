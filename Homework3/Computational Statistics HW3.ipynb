{
 "cells": [
  {
   "cell_type": "markdown",
   "metadata": {},
   "source": [
    "<center>\n",
    "    <h1>\n",
    "Hasting-Metropolis (and Gibbs) samplers\n",
    "    </h1>\n",
    "</center>"
   ]
  },
  {
   "cell_type": "code",
   "execution_count": 20,
   "metadata": {},
   "outputs": [],
   "source": [
    "import numpy as np\n",
    "import scipy \n",
    "import matplotlib.pyplot as plt\n",
    "import copy"
   ]
  },
  {
   "cell_type": "markdown",
   "metadata": {},
   "source": [
    "# Exercise 1 Hasting-Metropolis within Gibbs – Stochastic Approximation EM"
   ]
  },
  {
   "cell_type": "markdown",
   "metadata": {},
   "source": [
    "We observe a group of $N$ (independent) individuals. For the i-th individual, we have $k_i$ measurements\n",
    "$y_{i,j} \\in  \\mathbb{R}$. In studies on the progression of diseases, measurements $y_{i,j}$ can be measures of weight,\n",
    "volume of brain structures, protein concentration, tumoral score, etc. over time. We assume that each\n",
    "measurement $y_{i,j}$ are independent and obtained at time $t_{i,j}$ with $t_{i,1}< . . . < t_{i,k_i}$ ."
   ]
  },
  {
   "cell_type": "markdown",
   "metadata": {},
   "source": [
    "# 1.A – A population model for longitudinal data"
   ]
  },
  {
   "cell_type": "markdown",
   "metadata": {},
   "source": [
    "We wish to model an average progression as well as individual-specific progressions of the measurements from the observations $(y_{i,j}) i \\in \\{1,...,N\\} , j \\in \\{1,...,K\\}$. To do that, we consider a hierarchical model defined as follows.\n",
    "\n"
   ]
  },
  {
   "cell_type": "markdown",
   "metadata": {},
   "source": [
    "i. We assume that the average trajectory is the straight line which goes through the point $p_0$ at time\n",
    "$t_0$ with velocity $v_0$\n",
    "$$d(t) := p_0 + v_0(t − t_0)$$\n",
    "$$ t_0 \\sim N(\\bar{t_0},\\sigma_{t_0}^2) \\ \\ v_0 \\sim N(\\bar{v_0},\\sigma_{v_0}^2)$$\n",
    "and $\\sigma_{t_0}$ , $\\sigma_{v_0}$ are fixed variance parameters."
   ]
  },
  {
   "cell_type": "markdown",
   "metadata": {},
   "source": [
    "ii. For the i-th individual, we assume a trajectory of progression of the form\n",
    "$$d_i(t) := d( \\alpha_i(t − t_0 − t_i) + t_0 )$$.\n",
    "The trajectory of the i-th individual corresponds to an affine reparametrization of the average trajectory. This affine reparametrization, given by $t -> \\alpha_i(t−t_0 −t_i)+t_0$, allows to characterize changes in speed and delay in the progression of the i-th individual with respect to the average trajectory. Moreover, we assume that for all i-th individual measurements"
   ]
  },
  {
   "cell_type": "markdown",
   "metadata": {},
   "source": [
    "\\begin{aligned}\n",
    "& y_{i,j}=d_i(t_{i,j})+\\epsilon_{i,j} \\ \\ \\text{where} \\  \\ \\epsilon_{i,j} \\sim N(0,\\sigma^2) \\\\\n",
    "& \\alpha_i \\sim N(0,\\sigma_{\\epsilon}^2) \\\\\n",
    "& \\tau_i \\sim N(0,\\sigma_{\\tau}^2)\n",
    "\\end{aligned}"
   ]
  },
  {
   "cell_type": "markdown",
   "metadata": {},
   "source": [
    "The parameters of the model are $\\theta = ( \\bar{t}_0, \\bar{v}_0, \\sigma_{\\epsilon}, \\sigma_{\\tau} , \\sigma )$. For all $i \\in \\{1,...,N\\}$, $z_i = (\\alpha_i, \\tau_i)$ are random variables called random effects and $z_{pop} = ( t_0, v_0 )$ are called fixed effects. The fixed effects are used to model the group progression whereas random effects model individual progressions.\n",
    "Likewise, we define $\\theta_i = (\\sigma_{\\epsilon}, \\sigma_{\\tau} , \\sigma )$ and $\\theta_{pop} = ( \\bar{t}_0, \\bar{v}_0 )$."
   ]
  },
  {
   "cell_type": "markdown",
   "metadata": {},
   "source": [
    "We consider a bayesian framework and assume the following a priori on the parameters $\\theta$ :\n",
    "\n",
    "$$\\bar{t_0} \\sim N(\\hat{\\hat{t_0}},s_{t_0}^2) \\ \\ \\bar{v_0} \\sim N(\\hat{\\hat{v_0}},s_{v_0}^2)$$\n",
    "\n",
    "$$\\sigma_{\\epsilon}\\sim W^{-1}(v_{\\epsilon},m_{\\epsilon}) \\ \\ \\sigma_{\\tau}\\sim W^{-1}(v_{\\tau},m_{\\tau}) \\ \\ \\sigma \\sim W^{-1}(v,m) $$\n",
    "    "
   ]
  },
  {
   "cell_type": "markdown",
   "metadata": {},
   "source": [
    "where $W^{-1}(v,m)$ is the invere-Wishart distribution:\n",
    "$$ f_{W^{-1}}(\\sigma)=\\frac{1}{\\Gamma(\\frac{m_{\\sigma}}{2})}(\\frac{v}{\\sigma \\sqrt{2}} exp(-\\frac{v^2}{2 \\sigma^2})^{m_{\\sigma}}$$"
   ]
  },
  {
   "cell_type": "markdown",
   "metadata": {},
   "source": [
    "## Question 1"
   ]
  },
  {
   "cell_type": "markdown",
   "metadata": {},
   "source": [
    "Write the complete log-likelihood of the previous model $log q(y, z, \\theta)$ and show that the proposed\n",
    "model belongs to the curved exponential family."
   ]
  },
  {
   "cell_type": "markdown",
   "metadata": {},
   "source": [
    "\\begin{aligned}\n",
    "q(y,z,\\theta) & = q(y|z_{\\{1,..,N\\}},z_{pop},\\theta) q(z_i,z_{pop}|\\theta) q(\\theta) \\\\\n",
    "& = q(y|z_i,z_{pop},\\theta) q(z_{\\{1,..,N\\}}|\\theta) q(z_{pop}|\\theta) q(\\theta) \\\\\n",
    "& = (\\prod_{i=1}^N \\prod_{j=1}^K q(y_{i,j}|z_{\\{1,..,N\\}},z_{pop},\\theta))(\\prod_{i=1}^N q(z_i|\\theta)) q(z_{pop}|\\theta) q(\\theta)\n",
    "\\end{aligned}\n",
    "\n",
    "Then: \n",
    "\n",
    "$$log(q(y,z,\\theta))=(\\sum_{i=1}^N \\sum_{j=1}^K log(q(y_{i,j}|z_{\\{1,..,N\\}},z_{pop},\\theta)))+(\\sum_{i=1}^N log(q(z_i|\\theta))) + log(q(z_{pop}|\\theta))+log( q(\\theta))$$"
   ]
  },
  {
   "cell_type": "markdown",
   "metadata": {},
   "source": [
    "\\begin{aligned}\n",
    "\\sum_{i=1}^N \\sum_{j=1}^K log(q(y_{i,j}|z_{\\{1,..,N\\}},z_{pop},\\theta)) & \\propto -KN log(\\sigma) - \\frac{1}{2 \\sigma^2} \\sum_{i=1}^N \\sum_{j=1}^K (y_{i,j}-d_i(t_{i,j}))^2 \\\\\n",
    "\\end{aligned} \n",
    "\n",
    "\\begin{aligned}\n",
    "\\sum_{i=1}^N log(q(z_i|\\theta)) \\propto -\\frac{N}{2} log(\\sigma_{\\tau}\\sigma_{\\epsilon})-\\frac{1}{\\sigma_{\\tau}^2} \\sum_{i=1}^N \\tau_i^2 -\\frac{1}{\\sigma_{\\epsilon}^2} \\sum_{i=1}^N \\alpha_i^2 \\\\\n",
    "\\end{aligned} \n",
    "\n",
    "\\begin{aligned}\n",
    "log(q(z_{pop}|\\theta)) \\propto -\\frac{(t_0-\\hat{t_0})^2}{2\\sigma_{t_0}^2} -\\frac{(v_0-\\hat{v_0})^2}{2\\sigma_{v_0}^2} \\\\\n",
    "\\end{aligned}\n",
    "\n",
    "\\begin{aligned}\n",
    "log( q(\\theta)) \\propto -\\frac{(\\hat{t_0}-\\hat{\\hat{t_0}})^2}{2s_{t_0}^2} -\\frac{(\\hat{v_0}-\\hat{\\hat{v_0}})^2}{2s_{v_0}^2} + \\frac{m_{\\epsilon}}{2}(2log(\\frac{v_{\\epsilon}}{\\sigma_{\\epsilon}}) - \\frac{v_{\\epsilon}^2}{\\sigma_{\\epsilon}^2}) + \\frac{m_{\\tau}}{2}(2log(\\frac{v_{\\tau}}{\\sigma_{\\tau}}) - \\frac{v_{\\tau}^2}{ \\sigma_{\\tau}^2})+\\frac{m}{2}(2log(\\frac{v}{\\sigma}) - \\frac{v^2}{ \\sigma^2}) \\\\\n",
    "\\end{aligned}\n",
    "\n",
    "Then:\n",
    "\n",
    "\\begin{aligned}\n",
    "log(q(y,z,\\theta)) \\propto -KN log(\\sigma) - \\frac{1}{2 \\sigma^2} \\sum_{i=1}^N \\sum_{j=1}^K (y_{i,j}-d_i(t_{i,j}))^2 -N log(\\sigma_{\\tau}\\sigma_{\\epsilon})-\\frac{1}{\\sigma_{\\tau}^2} \\sum_{i=1}^N \\tau_i^2 -\\frac{1}{\\sigma_{\\epsilon}^2} \\sum_{i=1}^N \\alpha_i^2 -\\frac{(t_0-\\hat{t_0})^2}{2\\sigma_{t_0}^2} -\\frac{(v_0-\\hat{v_0})^2}{2\\sigma_{v_0}^2} -\\frac{(\\hat{t_0}-\\hat{\\hat{t_0}})^2}{2s_{t_0}^2} -\\frac{(\\hat{v_0}-\\hat{\\hat{v_0}})^2}{2s_{v_0}^2} + \\frac{m_{\\epsilon}}{2}(2log(\\frac{v_{\\epsilon}}{\\sigma_{\\epsilon}}) - \\frac{v_{\\epsilon}^2}{ \\sigma_{\\epsilon}^2}) + \\frac{m_{\\tau}}{2}(2log(\\frac{v_{\\tau}}{\\sigma_{\\tau}}) - \\frac{v_{\\tau}^2}{ \\sigma_{\\tau}^2})+\\frac{m}{2}(2log(\\frac{v}{\\sigma}) - \\frac{v^2}{ \\sigma^2})\n",
    "\\end{aligned}"
   ]
  },
  {
   "cell_type": "markdown",
   "metadata": {},
   "source": [
    "The sufficient statistic of the exponential family are:\n",
    "\n",
    "$$S_1(y,z)=\\frac{\\sum_{i=1}^N \\sum_{j=1}^K (y_{i,j}-d_i(t_{i,j}))^2}{KN}$$\n",
    "$$S_2(y,z)= \\frac{\\sum_{i=1}^N \\tau_i^2}{N} \\ \\ S_3(y,z)= \\frac{\\sum_{i=1}^N \\alpha_i^2}{N}$$\n",
    "$$ S_4(y,z)=t_0 \\ \\ S_5(y,z)=v_0$$ \n",
    "\n",
    "In this way:\n",
    "\n",
    "$<S(y,z),\\psi(\\theta)>=S_1(y,z) (\\frac{-KN}{2\\sigma^2})+S_2(y,z) (\\frac{-N}{2\\sigma^2_{\\epsilon}})+S_3(y,z) (\\frac{-N}{2\\sigma^2_{\\tau}})+S_4(y,z) (\\frac{\\hat{t_0}}{\\sigma^2_{t_0}})+S_5(y,z) (\\frac{\\hat{v_0}}{\\sigma^2_{v_0}})$$\n",
    "\n",
    "All the other terms are part of the function $\\phi(\\theta)$. \n",
    "Then the model belongs to the curved exponencial family."
   ]
  },
  {
   "cell_type": "markdown",
   "metadata": {},
   "source": [
    "## Question 2"
   ]
  },
  {
   "cell_type": "markdown",
   "metadata": {},
   "source": [
    "Generate synthetic data from the model by taking some reasonable values for the parameters."
   ]
  },
  {
   "cell_type": "code",
   "execution_count": 9,
   "metadata": {},
   "outputs": [],
   "source": [
    "## Fixed parameters\n",
    "p0=10\n",
    "sigma_t0=1\n",
    "sigma_v0=2\n",
    "fixed_parameters={\"p0\":p0,\"sigma_t0\":sigma_t0,\"sigma_v0\":sigma_v0}\n",
    "## Parameters to estimate\n",
    "t0_hat=0\n",
    "v0_hat=3\n",
    "sigma=1\n",
    "sigma_tau=0.5\n",
    "sigma_eps=0.1\n",
    "### Distance\n",
    "def distance(t,p0,v0,t0):\n",
    "    return p0+v0*(t-t0)"
   ]
  },
  {
   "cell_type": "code",
   "execution_count": 10,
   "metadata": {},
   "outputs": [],
   "source": [
    "### Syntetic data\n",
    "size=1000\n",
    "dimension=10\n",
    "t0=np.random.normal(t0_hat,sigma_t0,size=1)\n",
    "v0=np.random.normal(t0_hat,sigma_t0,size=1)\n",
    "y=np.zeros((1000,10))\n",
    "for i in range(dimension):\n",
    "    eps=np.random.normal(scale=sigma_eps,size=size)\n",
    "    alpha=np.exp(eps)\n",
    "    tau=np.random.normal(scale=sigma_tau,size=size)\n",
    "    y[:,i]=distance(alpha*(i-t0-tau)+t0,p0,v0,t0)"
   ]
  },
  {
   "cell_type": "code",
   "execution_count": 11,
   "metadata": {},
   "outputs": [
    {
     "data": {
      "text/plain": [
       "[<matplotlib.lines.Line2D at 0x2421d93d940>]"
      ]
     },
     "execution_count": 11,
     "metadata": {},
     "output_type": "execute_result"
    },
    {
     "data": {
      "image/png": "[encoded data removed]",
      "text/plain": [
       "<Figure size 432x288 with 1 Axes>"
      ]
     },
     "metadata": {
      "needs_background": "light"
     },
     "output_type": "display_data"
    }
   ],
   "source": [
    "plt.plot(np.arange(dimension),y[0])\n",
    "plt.plot(np.arange(dimension),y[1])\n",
    "plt.plot(np.arange(dimension),y[2])"
   ]
  },
  {
   "cell_type": "markdown",
   "metadata": {},
   "source": [
    "## Question 3"
   ]
  },
  {
   "cell_type": "markdown",
   "metadata": {},
   "source": [
    "Propose a Metropolis-Hastings sampler to sample from the a posteriori distribution of the latent\n",
    "variable $z = (z_{pop}, z_i)_{i \\in [1,N]} = (t_0, v_0, \\epsilon_i, \\tau_i)_{i \\in [1,N]} \\in \\mathbb{R}^{2N+2}$.\n",
    "\n",
    "A natural choice for the proposal distribution is to consider a multivariate Gaussian distribution\n",
    "$N (z, \\sigma_{prop})$.Thus, the acceptance ratio simply writes $min(1,\\frac{\\pi(z^*)}{\\pi(z^{(k)})})$ . This algorithm is called Symmetric Random Walk Hasting-Metropolis algorithm."
   ]
  },
  {
   "cell_type": "code",
   "execution_count": 12,
   "metadata": {},
   "outputs": [],
   "source": [
    "def MH(t0_hat,v0_hat,sigma_t0,sigma_v0,sigma_eps,sigma_tau,sigma_prop):\n",
    "    d=2*N+2\n",
    "    mu_para=[t0_hat,v0_hat]+(2*N)*[0]\n",
    "    Sigma_prop=sigma_prop*np.eyes(d)\n",
    "    Sigma_para=[sigma_t0,sigma_v0,sigma_eps,sigma_tau]"
   ]
  },
  {
   "cell_type": "markdown",
   "metadata": {},
   "source": [
    "## Question 4"
   ]
  },
  {
   "cell_type": "markdown",
   "metadata": {},
   "source": [
    "We want to use the Expectation-Maximization algorithm to maximize the likelihood, especially as we\n",
    "have proved at the question 1 that the model belongs to the curved exponential family. Nevertheless,\n",
    "the expectation required by the EM algorithm $Q_k(\\theta^{(k)}) = E_y[q(y, z, \\theta^{(k)})|y, \\theta^{(k)}]$ cannot be calculated here, due to the latent variable z. So, we have to use a stochastic version of the EM algorithm, namely the SAEM algorithm: the Expectation step is split into two steps, the Simulation one and the Stochastic Approximation one."
   ]
  },
  {
   "cell_type": "markdown",
   "metadata": {},
   "source": [
    "Compute the optimal parameters\n",
    "$$\\theta^{(k)} = argmax_{\\theta \\in \\Theta} \\{−\\phi(\\theta) + <S_k | \\psi(\\theta)>\\}$$"
   ]
  },
  {
   "cell_type": "markdown",
   "metadata": {},
   "source": [
    "and implement the HM-SAEM in order to find the MAP. In particular, we assume that the MAP\n",
    "exists. Use the question 2 to check your algorithm.\n",
    "For step-sizes $\\epsilon_k$ we can choose a parameter $N_b$ – burn-in parameter – and define\n",
    "$$\\forall k \\in N, \\ \\\n",
    "\\begin{cases}\n",
    "1 \\ \\ \\text{if} \\ \\ k \\in [1,N_b]  \\\\\n",
    "(k − N_b)^{−\\alpha} otherwise\n",
    "\\end{cases}$$"
   ]
  },
  {
   "cell_type": "markdown",
   "metadata": {},
   "source": [
    "## Question 5"
   ]
  },
  {
   "cell_type": "markdown",
   "metadata": {},
   "source": [
    "Propose a Metropolis-Hastings within Gibbs sampler to sample from the a posteriori distribution\n",
    "of $z_i = (\\epsilon_i, \\tau_i)$."
   ]
  },
  {
   "cell_type": "code",
   "execution_count": 47,
   "metadata": {},
   "outputs": [],
   "source": [
    "def sim_individual(data,t0,v0,tau,eps,fixed_parameters,theta,sigma_sim_ind):\n",
    "    N=data.shape[0]\n",
    "    K=data.shape[1]\n",
    "    tau_sim=np.zeros(N)\n",
    "    eps_sim=np.zeros(N)\n",
    "    #### Fixing simulations parameters\n",
    "    sim_sigma_tau=sigma_sim_ind[\"sigma_tau\"]\n",
    "    sim_sigma_eps=sigma_sim_ind[\"sigma_eps\"]\n",
    "    ##### Other parameters\n",
    "    p0=fixed_parameters[\"p0\"]\n",
    "    sigma_tau=theta[\"sigma_tau\"]\n",
    "    sigma_eps=theta[\"sigma_eps\"]\n",
    "    \n",
    "    ####### Simulations\n",
    "    for i in range(N):\n",
    "        ########## Tau Simulation\n",
    "        tau_candidate=np.random.normal(tau[i],sim_sigma_tau)\n",
    "        di=np.sum((data[i,:]-distance(np.exp(eps[i])*(np.arange(K)-t0-tau[i])+t0,fixed_parameters[\"p0\"],v0,t0))**2)\n",
    "        di_candidate=np.sum((data[i,:]-distance(np.exp(eps[i])*(np.arange(K)-t0-tau_candidate)+t0,fixed_parameters[\"p0\"],v0,t0))**2)\n",
    "        p_tau=-0.5*(tau[i]/sigma_tau)**2\n",
    "        p_tau_candidate=-0.5*(tau_candidate/sigma_tau)**2 \n",
    "        alpha_tau=di_candidate-p_tau-di+p_tau_candidate\n",
    "        u=np.random.uniform(size=1)\n",
    "        tau_sim[i]=np.where(np.log(u)<=np.min([0.,alpha_tau]),tau_candidate,tau[i])\n",
    "        ######### Epsilon simulation\n",
    "        eps_candidate=np.random.normal(eps[i],sim_sigma_eps)\n",
    "        di=np.sum((data[i,:]-distance(np.exp(eps[i])*(np.arange(K)-t0-tau_sim[i])+t0,p0,v0,t0))**2)\n",
    "        di_candidate=np.sum((data[i,:]-distance(np.exp(eps_candidate)*(np.arange(K)-t0-tau_sim[i])+t0,p0,v0,t0))**2)\n",
    "        p_eps=-0.5*(eps[i]/sigma_eps)**2\n",
    "        p_eps_candidate=-0.5*(eps_candidate/sigma_eps)**2 \n",
    "        alpha_eps=di_candidate-p_eps-di+p_eps_candidate\n",
    "        u=np.random.uniform(size=1)\n",
    "        eps_sim[i]=np.where(np.log(u)<=np.min([0.,alpha_eps]),eps_candidate,eps[i])\n",
    "    return tau_sim,eps_sim"
   ]
  },
  {
   "cell_type": "markdown",
   "metadata": {},
   "source": [
    "## Question 6"
   ]
  },
  {
   "cell_type": "markdown",
   "metadata": {},
   "source": [
    "Likewise, propose a HMwG sampler for the a posteriori distribution of $z_{pop} = (t_0, v_0)$."
   ]
  },
  {
   "cell_type": "code",
   "execution_count": 48,
   "metadata": {},
   "outputs": [],
   "source": [
    "def sim_population(data,t0,v0,tau,eps,fixed_parameters,theta,sigma_sim_pop):\n",
    "    N=data.shape[0]\n",
    "    K=data.shape[1]\n",
    "    y_hat=np.zeros((N,K))\n",
    "    y_hat_t0=np.zeros((N,K))\n",
    "    y_hat_v0=np.zeros((N,K))\n",
    "    \n",
    "    #### Fixing simulations parameters\n",
    "    sim_sigma_t0=sigma_sim_pop[\"sigma_t0\"]\n",
    "    sim_sigma_v0=sigma_sim_pop[\"sigma_v0\"]\n",
    "    ##### Other parameters\n",
    "    p0=fixed_parameters[\"p0\"]\n",
    "    sigma_t0=fixed_parameters[\"sigma_t0\"]\n",
    "    sigma_v0=fixed_parameters[\"sigma_v0\"]\n",
    "    t0_hat=theta[\"t0_hat\"]\n",
    "    v0_hat=theta[\"v0_hat\"]\n",
    "    \n",
    "    ###### Simulation\n",
    "    t0_candidate=np.random.normal(t0,sim_sigma_t0)\n",
    "    v0_candidate=np.random.normal(v0,sim_sigma_v0)\n",
    "    \n",
    "    ###### t0 simulation\n",
    "    for i in range(dimension):\n",
    "        y_hat[:,i]=distance(np.exp(eps)*(i-t0-tau)+t0,p0,v0,t0)\n",
    "        y_hat_t0[:,i]=distance(np.exp(eps)*(i-t0_candidate-tau)+t0_candidate,p0,v0,t0_candidate)\n",
    "    y_given_all=(-1./(2*sigma**2))*np.sum((data-y_hat)**2)\n",
    "    y_given_all_t0=(-1./(2*sigma**2))*np.sum((data-y_hat_t0)**2)               \n",
    "    q_t0=(-1./(2.*(sigma_t0)**2))*(t0-t0_hat)**2\n",
    "    q_t0_candidate=(-1./(2.*sigma_t0**2))*(t0_candidate-t0_hat)**2\n",
    "    alpha_t0=y_given_all_t0+q_t0_candidate-y_given_all-q_t0\n",
    "    u=np.random.uniform(size=1)\n",
    "    t0_sim=np.where(np.log(u)<=np.min([alpha_t0,0.]),t0_candidate,t0)\n",
    "    \n",
    "    ###### v0 simulation\n",
    "    for i in range(dimension):\n",
    "        y_hat[:,i]=distance(np.exp(eps)*(i-t0_sim-tau)+t0_sim,p0,v0,t0_sim)\n",
    "        y_hat_v0[:,i]=distance(np.exp(eps)*(i-t0_sim-tau)+t0_sim,p0,v0_candidate,t0_sim)\n",
    "    \n",
    "    y_given_all=(-1./(2*sigma**2))*np.sum((data-y_hat)**2)             \n",
    "    y_given_all_v0=(-1./(2*sigma**2))*np.sum((data-y_hat_v0)**2)               \n",
    "    q_v0=(-1./(2.*sigma_v0**2))*(v0-v0_hat)**2\n",
    "    q_v0_candidate=(-1./(2.*sigma_v0**2))*(v0_candidate-v0_hat)**2\n",
    "    alpha_v0=y_given_all_v0+q_v0_candidate-y_given_all-q_v0   \n",
    "    \n",
    "    u=np.random.uniform(size=1)\n",
    "    v0_sim=np.where(np.log(u)<=np.min([alpha_v0,0.]),v0_candidate,v0)\n",
    "    \n",
    "    return t0_sim,v0_sim"
   ]
  },
  {
   "cell_type": "markdown",
   "metadata": {},
   "source": [
    "## Question 7"
   ]
  },
  {
   "cell_type": "markdown",
   "metadata": {},
   "source": [
    "Implement the HMwG-SAEM in order to find the MAP."
   ]
  },
  {
   "cell_type": "code",
   "execution_count": 49,
   "metadata": {},
   "outputs": [],
   "source": [
    "#theta_apriori=s_t0,t0_barbar,s_v0,v0_barbar,v_eps,m_eps,v_tau,m_tau,v,m\n",
    "def HMwG_SAEM(fixed_parameters,theta_ini,theta_apriori,sigma_sim_ind,sigma_sim_pop,N_b,max_iter=10000):\n",
    "    N=data.shape[0]\n",
    "    K=data.shape[1]\n",
    "    #### Initialization\n",
    "    tau=np.zeros(N)\n",
    "    eps=np.zeros(N)\n",
    "    t0=0.\n",
    "    v0=2.\n",
    "    theta=theta_ini\n",
    "    di=np.zeros((N,K))\n",
    "    S1_old=0.\n",
    "    S2_old=0.\n",
    "    S3_old=0.\n",
    "    S4_old=0.\n",
    "    S5_old=0.\n",
    "    ##### Burn-in period\n",
    "    for i in range(int(max_iter/2)):\n",
    "        tau,eps=sim_individual(data,t0,v0,tau,eps,fixed_parameters,theta,sigma_sim_ind)\n",
    "        t0,v0=sim_population(data,t0,v0,tau,eps,fixed_parameters,theta,sigma_sim_pop)\n",
    "        \n",
    "       \n",
    "    for i in range(int(max_iter/2)):\n",
    "        ##### Simulation of latent variables\n",
    "        tau,eps=sim_individual(data,t0,v0,tau,eps,fixed_parameters,theta,sigma_sim_ind)\n",
    "        t0,v0=sim_population(data,t0,v0,tau,eps,fixed_parameters,theta,sigma_sim_pop)\n",
    "        for k in range(K):\n",
    "            di[:,k]=distance(np.exp(eps)*(k-t0-tau)+t0,fixed_parameters[\"p0\"],v0,t0)\n",
    "        #### Stochastisch approximation\n",
    "        \n",
    "        if i<N_b:\n",
    "            eps_k=1\n",
    "        else:\n",
    "            print(i+1-N_b)\n",
    "            eps_k=(i+1-N_b)**(-0.65)\n",
    "        \n",
    "        S1_new=S1_old+eps_k*(np.sum((data-di)**2)/(1.*K*N)-S1_old)\n",
    "        S2_new=S2_old+eps_k*(np.mean(eps**2)-S2_old)\n",
    "        S3_new=S3_old+eps_k*(np.mean(tau**2)-S3_old)\n",
    "        S4_new=S4_old+eps_k*(t0-S4_old)\n",
    "        S5_new=S5_old+eps_k*(v0-S5_old)\n",
    "        ##### Optimization of each parameter\n",
    "        t0_hat=(S4_new/(fixed_parameters[\"sigma_t0\"]**2)+theta_apriori[\"t0_hathat\"]/(theta_apriori[\"s_t0\"]**2))*(((1./fixed_parameters[\"sigma_t0\"])**2+(1./theta_apriori[\"s_t0\"])**2)**(-1))\n",
    "        v0_hat=(S5_new/(fixed_parameters[\"sigma_v0\"]**2)+theta_apriori[\"t0_hathat\"]/(theta_apriori[\"s_v0\"]**2))*(((1./fixed_parameters[\"sigma_v0\"])**2+(1./theta_apriori[\"s_v0\"])**2)**(-1))\n",
    "        sigma_eps=np.sqrt((N*S2_new+theta_apriori[\"m_eps\"]*theta_apriori[\"v_eps\"]**2)/(1.*(N+theta_apriori[\"m_eps\"])))\n",
    "        sigma_tau=np.sqrt((N*S3_new+theta_apriori[\"m_tau\"]*theta_apriori[\"v_tau\"]**2)/(1.*(N+theta_apriori[\"m_tau\"])))\n",
    "        sigma=np.sqrt((K*N*S1_new+theta_apriori[\"m\"]*theta_apriori[\"v\"]**2)/(1.*(K*N+theta_apriori[\"m\"])))\n",
    "        theta={\"t0_hat\":t0_hat,\"v0_hat\":v0_hat,\"sigma_eps\":sigma_eps,\"sigma\":sigma,\"sigma_tau\":sigma_tau}\n",
    "        print(theta)\n",
    "        S1_old=copy.deepcopy(S1_new)\n",
    "        S2_old=copy.deepcopy(S2_new)\n",
    "        S3_old=copy.deepcopy(S3_new)\n",
    "        S4_old=copy.deepcopy(S4_new)\n",
    "        S5_old=copy.deepcopy(S5_new)\n",
    "    return(theta)\n",
    "        "
   ]
  },
  {
   "cell_type": "code",
   "execution_count": 50,
   "metadata": {},
   "outputs": [],
   "source": [
    "## Fixed parameters\n",
    "p0=10.\n",
    "sigma_t0=1.\n",
    "sigma_v0=2.\n",
    "fixed_parameters={\"p0\":p0,\"sigma_t0\":sigma_t0,\"sigma_v0\":sigma_v0}"
   ]
  },
  {
   "cell_type": "code",
   "execution_count": 51,
   "metadata": {},
   "outputs": [],
   "source": [
    "##### A priori parameters \n",
    "t0_hathat=0.\n",
    "v0_hathat=3.\n",
    "s_t0=0.01\n",
    "s_v0=0.01\n",
    "v=1.\n",
    "m=0.01\n",
    "m_eps=0.01\n",
    "v_eps=1.\n",
    "m_tau=0.01\n",
    "v_tau=1.\n",
    "theta_apriori={\"t0_hathat\":t0_hathat,\"v0_hathat\":v0_hathat,\"s_t0\":s_t0,\"s_v0\":s_v0,\"m\":m,\"v\":v,\"m_eps\":m_eps,\"v_eps\":v_eps,\"m_tau\":m_tau,\"v_tau\":v_tau}"
   ]
  },
  {
   "cell_type": "code",
   "execution_count": 52,
   "metadata": {},
   "outputs": [],
   "source": [
    "## Initial guest of parameters\n",
    "t0_hat=1.\n",
    "v0_hat=4.\n",
    "sigma=2.\n",
    "sigma_tau=1.5\n",
    "sigma_eps=0.4\n",
    "theta_ini={\"t0_hat\":t0_hat,\"v0_hat\":v0_hat,\"sigma_eps\":sigma_eps,\"sigma\":sigma,\"sigma_tau\":sigma_tau}"
   ]
  },
  {
   "cell_type": "code",
   "execution_count": 53,
   "metadata": {},
   "outputs": [
    {
     "name": "stdout",
     "output_type": "stream",
     "text": [
      "{'t0_hat': array([0.00169209]), 'v0_hat': array([-4.01692494e-07]), 'sigma_eps': 20.738718410474007, 'sigma': 207628776785335.03, 'sigma_tau': 41.50794334852408}\n",
      "{'t0_hat': array([0.00166855]), 'v0_hat': array([-4.01692494e-07]), 'sigma_eps': 21.134377368303483, 'sigma': 461333171614646.75, 'sigma_tau': 42.28943944149183}\n",
      "{'t0_hat': array([0.00166855]), 'v0_hat': array([-4.01692494e-07]), 'sigma_eps': 21.522118946143145, 'sigma': 461355228017856.4, 'sigma_tau': 43.07646182862805}\n",
      "{'t0_hat': array([0.00158495]), 'v0_hat': array([-4.01692494e-07]), 'sigma_eps': 21.912651592525165, 'sigma': 472748239098782.94, 'sigma_tau': 43.93739147067655}\n",
      "{'t0_hat': array([0.00158495]), 'v0_hat': array([-4.01692494e-07]), 'sigma_eps': 22.317326795294598, 'sigma': 1637817657803498.0, 'sigma_tau': 44.65131301987991}\n",
      "{'t0_hat': array([0.00145929]), 'v0_hat': array([-4.01692494e-07]), 'sigma_eps': 22.702590277308968, 'sigma': 5647452991466981.0, 'sigma_tau': 45.43687689668161}\n",
      "{'t0_hat': array([0.00130204]), 'v0_hat': array([-4.01692494e-07]), 'sigma_eps': 23.054434705850632, 'sigma': 5536786140429903.0, 'sigma_tau': 46.196178111308825}\n",
      "{'t0_hat': array([0.00121739]), 'v0_hat': array([-4.01692494e-07]), 'sigma_eps': 23.428327913094588, 'sigma': 5609938116337590.0, 'sigma_tau': 47.02619687483662}\n",
      "{'t0_hat': array([0.00115821]), 'v0_hat': array([-4.01692494e-07]), 'sigma_eps': 23.81830724203407, 'sigma': 6673567371871850.0, 'sigma_tau': 47.801785705479055}\n",
      "{'t0_hat': array([0.00115821]), 'v0_hat': array([-4.01692494e-07]), 'sigma_eps': 24.248293179989755, 'sigma': 7477482962474997.0, 'sigma_tau': 48.62725982024827}\n",
      "{'t0_hat': array([0.00115821]), 'v0_hat': array([-4.01692494e-07]), 'sigma_eps': 24.650396340813444, 'sigma': 7625978381435872.0, 'sigma_tau': 49.42796253443165}\n",
      "{'t0_hat': array([0.00106999]), 'v0_hat': array([-4.01692494e-07]), 'sigma_eps': 25.011866663591476, 'sigma': 7889839913137035.0, 'sigma_tau': 50.19546346229827}\n",
      "{'t0_hat': array([0.00106999]), 'v0_hat': array([-4.01692494e-07]), 'sigma_eps': 25.370592385041103, 'sigma': 8411294290705715.0, 'sigma_tau': 50.988505089291515}\n",
      "{'t0_hat': array([0.00106999]), 'v0_hat': array([-4.01692494e-07]), 'sigma_eps': 25.772854675333924, 'sigma': 5.290020540104812e+16, 'sigma_tau': 51.85986679921503}\n",
      "{'t0_hat': array([0.00082384]), 'v0_hat': array([-4.01692494e-07]), 'sigma_eps': 26.177485444547962, 'sigma': 6.782947012617803e+16, 'sigma_tau': 52.64498757033475}\n",
      "{'t0_hat': array([0.00086459]), 'v0_hat': array([-4.01692494e-07]), 'sigma_eps': 26.560139442245603, 'sigma': 3.1306473185924006e+17, 'sigma_tau': 53.429415191861814}\n",
      "{'t0_hat': array([0.00086459]), 'v0_hat': array([-4.01692494e-07]), 'sigma_eps': 26.952747268943956, 'sigma': 6.153025063466612e+17, 'sigma_tau': 54.190957411099966}\n",
      "{'t0_hat': array([0.00086459]), 'v0_hat': array([-4.01692494e-07]), 'sigma_eps': 27.351148866170362, 'sigma': 6.395692299378372e+17, 'sigma_tau': 54.97277031474821}\n",
      "{'t0_hat': array([0.00086459]), 'v0_hat': array([-4.01692494e-07]), 'sigma_eps': 27.696937700785938, 'sigma': 2.0167051127190083e+18, 'sigma_tau': 55.75346749517189}\n",
      "{'t0_hat': array([0.00087073]), 'v0_hat': array([-4.01692494e-07]), 'sigma_eps': 28.07738919912613, 'sigma': 2.0146613002784061e+18, 'sigma_tau': 56.52745169433665}\n",
      "1\n",
      "{'t0_hat': array([0.00087571]), 'v0_hat': array([-4.01692494e-07]), 'sigma_eps': 28.466223520165514, 'sigma': 3.4150099164915057e+18, 'sigma_tau': 57.295103773474644}\n",
      "2\n",
      "{'t0_hat': array([0.00087571]), 'v0_hat': array([-4.01692494e-07]), 'sigma_eps': 28.72016691062939, 'sigma': 1.703674124623885e+19, 'sigma_tau': 57.814552165697194}\n",
      "3\n",
      "{'t0_hat': array([0.00087571]), 'v0_hat': array([-4.01692494e-07]), 'sigma_eps': 28.986728573910764, 'sigma': 3.0235375130326815e+19, 'sigma_tau': 58.372007138881855}\n",
      "4\n",
      "{'t0_hat': array([0.00092512]), 'v0_hat': array([-4.01692494e-07]), 'sigma_eps': 29.26978981251651, 'sigma': 4.163591965040341e+19, 'sigma_tau': 58.95285843856713}\n",
      "5\n",
      "{'t0_hat': array([0.00099309]), 'v0_hat': array([-4.01692494e-07]), 'sigma_eps': 29.558187059196207, 'sigma': 5.411370135392357e+19, 'sigma_tau': 59.51125950067672}\n",
      "6\n",
      "{'t0_hat': array([0.00103225]), 'v0_hat': array([-4.01692494e-07]), 'sigma_eps': 29.855439409396837, 'sigma': 1.6125940422247996e+20, 'sigma_tau': 60.08690161930641}\n",
      "7\n",
      "{'t0_hat': array([0.00106526]), 'v0_hat': array([-4.01692494e-07]), 'sigma_eps': 30.15611895664363, 'sigma': 2.044707927650904e+20, 'sigma_tau': 60.69276960809582}\n",
      "8\n",
      "{'t0_hat': array([0.00110259]), 'v0_hat': array([-4.01692494e-07]), 'sigma_eps': 30.449708497360625, 'sigma': 2.7006252947897336e+20, 'sigma_tau': 61.29022325904308}\n",
      "9\n",
      "{'t0_hat': array([0.00112823]), 'v0_hat': array([-4.01692494e-07]), 'sigma_eps': 30.74573673385628, 'sigma': 3.5982220943689115e+20, 'sigma_tau': 61.88853889619336}\n",
      "10\n",
      "{'t0_hat': array([0.00114643]), 'v0_hat': array([-4.01692494e-07]), 'sigma_eps': 31.046349111026853, 'sigma': 5.4893167954478865e+20, 'sigma_tau': 62.48348282746383}\n",
      "11\n",
      "{'t0_hat': array([0.00114481]), 'v0_hat': array([-4.01692494e-07]), 'sigma_eps': 31.349322340465868, 'sigma': 1.0378390339411174e+21, 'sigma_tau': 63.08529868638967}\n",
      "12\n",
      "{'t0_hat': array([0.0011436]), 'v0_hat': array([-4.01692494e-07]), 'sigma_eps': 31.650340058174997, 'sigma': 1.6215518622680128e+21, 'sigma_tau': 63.706488401823414}\n",
      "13\n",
      "{'t0_hat': array([0.00114175]), 'v0_hat': array([-4.01692494e-07]), 'sigma_eps': 31.95042675946177, 'sigma': 9.681547915842827e+21, 'sigma_tau': 64.32761014071258}\n",
      "14\n",
      "{'t0_hat': array([0.00114031]), 'v0_hat': array([-4.01692494e-07]), 'sigma_eps': 32.260342882166775, 'sigma': 1.282044080885089e+22, 'sigma_tau': 64.95630385720102}\n",
      "15\n",
      "{'t0_hat': array([0.00113919]), 'v0_hat': array([-4.01692494e-07]), 'sigma_eps': 32.5724875249207, 'sigma': 1.4880349335021446e+22, 'sigma_tau': 65.58687512333788}\n",
      "16\n",
      "{'t0_hat': array([0.00113648]), 'v0_hat': array([-4.01692494e-07]), 'sigma_eps': 32.880993233654294, 'sigma': 1.75007218424554e+22, 'sigma_tau': 66.21156772474417}\n",
      "17\n",
      "{'t0_hat': array([0.0011343]), 'v0_hat': array([-4.01692494e-07]), 'sigma_eps': 33.19047461239272, 'sigma': 2.9466873299949534e+22, 'sigma_tau': 66.8421604535595}\n",
      "18\n",
      "{'t0_hat': array([0.00113254]), 'v0_hat': array([-4.01692494e-07]), 'sigma_eps': 33.50482843953942, 'sigma': 3.765432187195603e+22, 'sigma_tau': 67.47838442185657}\n",
      "19\n",
      "{'t0_hat': array([0.00113109]), 'v0_hat': array([-4.01692494e-07]), 'sigma_eps': 33.8201730347951, 'sigma': 4.33942981103859e+22, 'sigma_tau': 68.1136294145872}\n",
      "20\n",
      "{'t0_hat': array([0.00111473]), 'v0_hat': array([-4.01692494e-07]), 'sigma_eps': 34.136501753323216, 'sigma': 4.870581005134997e+22, 'sigma_tau': 68.75592300583172}\n",
      "21\n",
      "{'t0_hat': array([0.00110115]), 'v0_hat': array([-4.01692494e-07]), 'sigma_eps': 34.453250647582216, 'sigma': 7.66897258621237e+22, 'sigma_tau': 69.40752017120091}\n",
      "22\n",
      "{'t0_hat': array([0.00109042]), 'v0_hat': array([-4.01692494e-07]), 'sigma_eps': 34.77336993687138, 'sigma': 1.1342847142258249e+23, 'sigma_tau': 70.04955700081491}\n",
      "23\n",
      "{'t0_hat': array([0.00110469]), 'v0_hat': array([-3.80941903e-07]), 'sigma_eps': 35.0993219891088, 'sigma': 1.17801223453182e+23, 'sigma_tau': 70.69892282296287}\n",
      "24\n",
      "{'t0_hat': array([0.00111677]), 'v0_hat': array([-3.63387105e-07]), 'sigma_eps': 35.42160950872961, 'sigma': 1.9806833750200327e+23, 'sigma_tau': 71.35147140677502}\n",
      "25\n",
      "{'t0_hat': array([0.00112703]), 'v0_hat': array([-3.48458366e-07]), 'sigma_eps': 35.74602522723647, 'sigma': 3.4926157867936026e+23, 'sigma_tau': 72.00117947534649}\n",
      "26\n",
      "{'t0_hat': array([0.0011466]), 'v0_hat': array([-3.35701336e-07]), 'sigma_eps': 36.072821427319575, 'sigma': 5.816580130912984e+23, 'sigma_tau': 72.65464265598428}\n",
      "27\n",
      "{'t0_hat': array([0.00116339]), 'v0_hat': array([-3.24750932e-07]), 'sigma_eps': 36.399054529363056, 'sigma': 3.8356708453629875e+24, 'sigma_tau': 73.31106430437036}\n",
      "28\n",
      "{'t0_hat': array([0.00118623]), 'v0_hat': array([-3.15311735e-07]), 'sigma_eps': 36.72355359747697, 'sigma': 5.50523587187725e+24, 'sigma_tau': 73.9684232986388}\n",
      "29\n",
      "{'t0_hat': array([0.00121942]), 'v0_hat': array([-3.07143137e-07]), 'sigma_eps': 37.04866041295388, 'sigma': 2.911431275977894e+25, 'sigma_tau': 74.62813942248899}\n",
      "30\n",
      "{'t0_hat': array([0.00124825]), 'v0_hat': array([-3.00047977e-07]), 'sigma_eps': 37.37311887912141, 'sigma': 3.956097476760355e+25, 'sigma_tau': 75.2902406920532}\n"
     ]
    }
   ],
   "source": [
    "N_b=20\n",
    "data=y\n",
    "sigma_sim_pop={\"sigma_t0\":1.,\"sigma_v0\":1.}\n",
    "sigma_sim_ind={\"sigma_tau\":2.,\"sigma_eps\":1.}\n",
    "theta_estim=HMwG_SAEM(fixed_parameters,theta_ini,theta_apriori,sigma_sim_ind,sigma_sim_pop,N_b,max_iter=100)"
   ]
  },
  {
   "cell_type": "markdown",
   "metadata": {},
   "source": [
    "## Question 8\n",
    "We can improve the sampling step for big dataset by considering a Block HMwG sampler instead of a\n",
    "\"one-at-a-time\" as described above HMwG sampler. In the Block version, each Metropolis-Hastings step\n",
    "of the algorithm consists in a multivariate symmetric random walk. Then, the Block MHwG sampler\n",
    "updates simultaneously block (or sets) of latent variables given the others."
   ]
  },
  {
   "cell_type": "markdown",
   "metadata": {},
   "source": [
    "Explain what is the advantages of a Block Gibbs sampler over a \"one-at-a-time\" Gibbs sampler\n",
    "for our model."
   ]
  },
  {
   "cell_type": "markdown",
   "metadata": {},
   "source": [
    "## Question 9"
   ]
  },
  {
   "cell_type": "markdown",
   "metadata": {},
   "source": [
    "Implement a Block HMwG sampler by choosing a block for the fixed effects and a block by\n",
    "individuals."
   ]
  },
  {
   "cell_type": "markdown",
   "metadata": {},
   "source": [
    "# Excercise 2 Multiplicative Hasting-Metropolis"
   ]
  },
  {
   "cell_type": "markdown",
   "metadata": {},
   "source": [
    "Let $f$ be a density function on $]−1, 1[$. We consider the multiplicative Hasting-Metropolis algorithm\n",
    "defined as follows.\n",
    "\n",
    "Let X be the current state of the Markov chain.\n",
    "\n",
    "i) We sample $\\epsilon$ from the probability density function f and a random variable $B$ from\n",
    "the Bernoulli distribution with parameter $\\frac{1}{2}$.\n",
    "\n",
    "ii) If $B = 1$, we set $Y =\\epsilon X$. Otherwise, we set $Y =\\frac{X}{\\epsilon}$. Then, we accept the candidate $Y$ with a probability given by $\\alpha(X,Y)$, the usual Hasting-Metropolis acceptation ratio."
   ]
  },
  {
   "cell_type": "code",
   "execution_count": 3,
   "metadata": {},
   "outputs": [],
   "source": [
    "import numpy as np\n",
    "import scipy \n",
    "import matplotlib.pyplot as plt\n"
   ]
  },
  {
   "cell_type": "markdown",
   "metadata": {},
   "source": [
    "## Question 1"
   ]
  },
  {
   "cell_type": "markdown",
   "metadata": {},
   "source": [
    "Determine the density of the jumping distribution $Y \\sim q(X, Y )$."
   ]
  },
  {
   "cell_type": "markdown",
   "metadata": {},
   "source": [
    "We denote $h(.)$ a measurable and bounded function.\n",
    "\n",
    "Let´s suppose first that $x>0$, then:\n",
    "\n",
    "\\begin{aligned}\n",
    "E[h(Y)]&=E[h(\\epsilon X)|B=1]P(B=1)+E[h(\\epsilon X)|B=0]P(B=0)=\\frac{1}{2} \\int_{-1}^{1} h(\\epsilon X) f_{\\epsilon}(\\epsilon) d\\epsilon + \\frac{1}{2} \\int_{-1}^{1} h(\\frac{X}{\\epsilon}) f_{\\epsilon}(\\epsilon) d\\epsilon \\\\\n",
    "&= \\frac{1}{2} \\int_{-x}^{x} h(Y) \\frac{f_{\\epsilon}(\\frac{Y}{X})}{X} dY + \\frac{1}{2} \\int_{-\\infty}^{-x} h(Y) f_{\\epsilon}(\\frac{X}{Y}) \\frac{X}{Y^2} dY + \\frac{1}{2} \\int_{x}^{\\infty} h(Y) f_{\\epsilon}(\\frac{X}{Y}) \\frac{X}{Y^2} dY\n",
    "\\end{aligned}\n",
    "\n",
    "In a similar way, we can find that:\n",
    "\n",
    "$E[h(Y)]= \\frac{1}{2} \\int_{x}^{-x} h(Y) \\frac{f_{\\epsilon}(\\frac{Y}{X})}{-X} dY + \\frac{1}{2} \\int_{-\\infty}^{x} h(Y) f_{\\epsilon}(\\frac{X}{Y}) \\frac{-X}{Y^2} dY + \\frac{1}{2} \\int_{-x}^{\\infty} h(Y) f_{\\epsilon}(\\frac{X}{Y}) \\frac{-X}{Y^2}$\n",
    "\n",
    "In conclusion we have that for $X \\neq 0$:\n",
    "\n",
    "$$f_y(y)=\\frac{1}{2} \\frac{f_{\\epsilon}(\\frac{Y}{X})}{|X|} \\mathbb{1}_{]-|X|,|X|[}+\\frac{1}{2} h(Y) f_{\\epsilon}(\\frac{X}{Y}) \\frac{|X|}{Y^2} \\mathbb{1}_{[-\\infty,-|X|[} + \\frac{1}{2}  h(Y) f_{\\epsilon}(\\frac{X}{Y}) \\frac{|X|}{Y^2} \\mathbb{1}_{[|X|,\\infty[}$$\n",
    "\n",
    "For $X=0$ we have that:\n",
    "\n",
    "$$E[h(0)]=h(0)$$\n",
    "\n",
    "Then we have that the measure related with the transition is the dirichlet measure, which does not have a density distribution, a characteristic that is required for the HM algorithm. Nevertheless, if we start with $X!=0$ and we choose $\\epsilon$ to be a density which assigns 0 probability to $0$, we will not have problems to implement de algorithm. "
   ]
  },
  {
   "cell_type": "markdown",
   "metadata": {},
   "source": [
    "## Question 2"
   ]
  },
  {
   "cell_type": "markdown",
   "metadata": {},
   "source": [
    "Compute the acceptation ratio $\\alpha$ so that the chain has a given distribution $\\pi$ as invariant distribution."
   ]
  },
  {
   "cell_type": "markdown",
   "metadata": {},
   "source": [
    "According to the results seen in the course, we have that the HMM algorithm converge if we fix:\n",
    "\n",
    "$$\\alpha=min(1,\\frac{q(y_{n+1},x_n) \\pi(y_{n+1})}{q(x_n,y_{n+1}) \\pi(x_n)})$$"
   ]
  },
  {
   "cell_type": "markdown",
   "metadata": {},
   "source": [
    "## Question 3 "
   ]
  },
  {
   "cell_type": "markdown",
   "metadata": {},
   "source": [
    "I use a uniform density in the interval $]-1,1[$ for generate $\\epsilon$ in order to implement the multiplicative Hasting-Metropolis algorithm. \n",
    "\n",
    "I analyze the algorithm's performance by simulating observations from a exponential distribution and from a normal distribution. The fist one, can be simulated efficiently by the inverse transform method.\n"
   ]
  },
  {
   "cell_type": "code",
   "execution_count": 18,
   "metadata": {},
   "outputs": [],
   "source": [
    "def Q_xy(x,y):\n",
    "    ## Jumping distribution\n",
    "    ## Input\n",
    "    # x real value.\n",
    "    # y real value.\n",
    "    if (y<abs(x) and -y<abs(x)):\n",
    "        q_xy=(1./2.)*1/abs(x)*(1./2.)\n",
    "    else:\n",
    "        q_xy=(1./2.)*(abs(x)/(y**2))*(1./2.)\n",
    "    return(q_xy)\n",
    "\n",
    "\n",
    "\n",
    "def Mul_HM(x0,N,distribution,loc,scale):\n",
    "    ### Implementation of the Multiplicative Hasting-Metropolis\n",
    "    ### for the exponential and the normal distributions\n",
    "    \n",
    "    ## Input. \n",
    "    # x0 initial point\n",
    "    # N number of simulations\n",
    "    # distribution \"exponential\", \"normal\"\n",
    "    # loc and scale parameters of the distribution to be simulated\n",
    "    nsim=0\n",
    "    simulations=np.zeros(N)\n",
    "    X=x0\n",
    "    \n",
    "    while nsim<N:\n",
    "        e=np.random.uniform(-1,1,size=1)\n",
    "        B=np.where(np.random.uniform(size=1)<=1/2,1,0)\n",
    "        Y=np.where(B==1,e*X,X/e)\n",
    "        \n",
    "        if distribution==\"exponential\":\n",
    "            p_x=scipy.stats.expon.pdf(X,loc,scale)\n",
    "            p_y=scipy.stats.expon.pdf(Y,loc,scale)\n",
    "            q_xy=Q_xy(X,Y)\n",
    "            q_yx=Q_xy(Y,X)\n",
    "        \n",
    "        if distribution==\"normal\":\n",
    "            p_x=scipy.stats.norm.pdf(X,loc,scale)\n",
    "            p_y=scipy.stats.norm.pdf(Y,loc,scale)\n",
    "            q_xy=Q_xy(X,Y)\n",
    "            q_yx=Q_xy(Y,X)\n",
    "        \n",
    "        a_xy=min([(p_y/p_x)*(q_yx/q_xy),1])\n",
    "        u=np.random.uniform(size=1)\n",
    "        \n",
    "        if u<=a_xy:\n",
    "            simulations[nsim]=Y\n",
    "            nsim+=1\n",
    "            X=Y\n",
    "    return(simulations)\n",
    "\n"
   ]
  },
  {
   "cell_type": "markdown",
   "metadata": {},
   "source": [
    "## Question 4"
   ]
  },
  {
   "cell_type": "markdown",
   "metadata": {},
   "source": [
    "For both problems, the multiplicative MH approximate the distribution well. In both cases, I delete the first observations since the algorithm is garanted to converge in the limit to infinity. For the Gaussian distributio,I need a longer burn period to get good results. \n"
   ]
  },
  {
   "cell_type": "markdown",
   "metadata": {},
   "source": [
    "### Exponential distribution "
   ]
  },
  {
   "cell_type": "code",
   "execution_count": 21,
   "metadata": {},
   "outputs": [
    {
     "data": {
      "text/plain": [
       "<matplotlib.legend.Legend at 0x2c5553710f0>"
      ]
     },
     "execution_count": 21,
     "metadata": {},
     "output_type": "execute_result"
    },
    {
     "data": {
      "image/png": "[encoded data removed]",
      "text/plain": [
       "<Figure size 432x288 with 1 Axes>"
      ]
     },
     "metadata": {
      "needs_background": "light"
     },
     "output_type": "display_data"
    }
   ],
   "source": [
    "x0=1\n",
    "N=10000\n",
    "loc=0\n",
    "scale=1\n",
    "distribution=\"exponential\"\n",
    "sim_exponencial=Mul_HM(x0,N,distribution,loc,scale)  \n",
    "\n",
    "sim_exponencial=sim_exponencial[1000:N]\n",
    "\n",
    "\n",
    "x = np.linspace(start=scipy.stats.expon.ppf(0.01,loc,scale),\n",
    "                stop=scipy.stats.expon.ppf(0.99,loc,scale), num=250)\n",
    "plt.hist(sim_exponencial,bins=25,density=True,alpha=0.6,color='b')\n",
    "plt.plot(x,scipy.stats.expon.pdf(x,loc,scale), linestyle='solid', c='red', lw=3,alpha=0.8, label='Analytical (True) PDF')\n",
    "plt.legend()"
   ]
  },
  {
   "cell_type": "markdown",
   "metadata": {},
   "source": [
    "### Normal distribution"
   ]
  },
  {
   "cell_type": "code",
   "execution_count": 25,
   "metadata": {},
   "outputs": [
    {
     "data": {
      "text/plain": [
       "<matplotlib.legend.Legend at 0x2c5555fd2e8>"
      ]
     },
     "execution_count": 25,
     "metadata": {},
     "output_type": "execute_result"
    },
    {
     "data": {
      "image/png": "[encoded data removed]",
      "text/plain": [
       "<Figure size 432x288 with 1 Axes>"
      ]
     },
     "metadata": {
      "needs_background": "light"
     },
     "output_type": "display_data"
    }
   ],
   "source": [
    "x0=-5\n",
    "N=10000\n",
    "loc=-10\n",
    "scale=1\n",
    "distribution=\"normal\"\n",
    "\n",
    "sim_normal=Mul_HM(x0,N,distribution,loc,scale)  \n",
    "\n",
    "sim_normal=sim_normal[5000:N]\n",
    "\n",
    "\n",
    "x = np.linspace(start=scipy.stats.norm.ppf(0.01,loc,scale),\n",
    "                stop=scipy.stats.norm.ppf(0.99,loc,scale), num=250)\n",
    "plt.hist(sim_normal,bins=25,density=True,alpha=0.6,color='b')\n",
    "plt.plot(x,scipy.stats.norm.pdf(x,loc,scale), linestyle='solid', c='red', lw=3,alpha=0.8, label='Analytical (True) PDF')\n",
    "plt.legend()"
   ]
  },
  {
   "cell_type": "markdown",
   "metadata": {},
   "source": [
    "# Exercise 3 Data Augmentation\n",
    "\n"
   ]
  },
  {
   "cell_type": "markdown",
   "metadata": {},
   "source": [
    "Les $f : (x, y) \\in R^p × R^q \\rightarrow f(x, y) \\in R^+$ be a density with respect to the Lebesgue measure on $R^{p+q}$.\n",
    "\n",
    "Lets define: \n",
    "    \n",
    "$$f_X(x) =\\int f(x, y) dy \\ \\ \\ f_Y (y) = \\int f(x, y) dx $$\n",
    "\n",
    "and \n",
    "\n",
    "$$ \\forall y \\in Y := \\{ y \\in R^q | f_Y (y) > 0\\} , f_{X|Y} (x, y) := \\frac{f(x, y)}{f_Y (y)}$$\n",
    "$$ \\forall x \\in X := \\{ x \\in R^q | f_X (x) > 0\\} , f_{Y|X} (x, y) := \\frac{f(x, y)}{f_X (x)}$$\n",
    "\n",
    "We define a bivariate chain $\\{(X_n, Y_n), n > 0\\}$ as in the following algorithm"
   ]
  },
  {
   "cell_type": "markdown",
   "metadata": {},
   "source": [
    "### Algorithm 4\n",
    "Given $(X_0, Y_0) \\in R^p × R^q$ and $N \\in \\mathbb{N}$\n",
    "\n",
    "for $n = 1 \\ \\ to \\ \\ N$ do\n",
    "\n",
    "$X_n \\sim f_{X|Y} (·, Y_{n−1})$\n",
    "\n",
    "$Y_n \\sim f_{Y|X}(X_n, ·)$\n",
    "\n",
    "end\n",
    "\n",
    "return $\\{(X_n, Y_n), 0 \\leq n \\leq N\\}$\n"
   ]
  },
  {
   "cell_type": "markdown",
   "metadata": {},
   "source": [
    "## Question 1"
   ]
  },
  {
   "cell_type": "markdown",
   "metadata": {},
   "source": [
    "Show that the bivariate process $\\{(Xn, Yn), n > 0\\}$ is a Markov chain. Give the expression of its transition kernel as a function of the quantities defined above."
   ]
  },
  {
   "cell_type": "markdown",
   "metadata": {},
   "source": [
    "In a first stage, we should show that $P((x_n,y_n)\\in A|F_{n-1})=\\int_A f_{x|y} (x,Y_{n-1}) f_{y|x} (x,y) dxdy$\n",
    "\n",
    "As the function only depends on the previous values of the chain, it is a Markov chain."
   ]
  },
  {
   "cell_type": "markdown",
   "metadata": {},
   "source": [
    "The transition kernel will be: \n",
    "\n",
    "$$E[h(x_n,y_n)|X_{n-1},Y_{n-1}]=\\int h(x,y) f_{x|y} (x,Y_{n-1}) f_{y|x} (x,y) dxdy$$\n",
    "\n",
    "Then the kernel of the markov chain is: $f_{x|y} (x,Y_{n-1}) f_{y|x} (x,y)$."
   ]
  },
  {
   "cell_type": "markdown",
   "metadata": {},
   "source": [
    "## Question 2"
   ]
  },
  {
   "cell_type": "markdown",
   "metadata": {},
   "source": [
    "Show that $\\{Yn, n > 0\\}$ is a Markov chain : give the expression of its transition kernel and prove that $f_Y (y) dy$ is invariant for this kernel.\n",
    "\n",
    "Hereafter, we consider the case when\n",
    "\n",
    "$$f(x, y) = \\frac{4}{\\sqrt{2 \\pi}} y^{\\frac{3}{2}} exp(-y(\\frac{x^2}{2}+2)) \\mathbb{1}_{\\mathbb{R}^+}(y)$$"
   ]
  },
  {
   "cell_type": "markdown",
   "metadata": {},
   "source": [
    "Lets first show:\n",
    "\n",
    "\\begin{aligned}\n",
    "P(Y_n \\in A)&=\\int_A f_{y|x_n}(x_n,y) dy = \\int_{\\mathbb{R}^P} \\int_A f_{y|x_n}(x_n,y) f_{x_n|Y_{n-1}} (x_n) dy dx_n \\\\\n",
    "&=\\int_A \\int_{\\mathbb{R}^P} f_{y|x_n}(x_n,y) f_{x_n|Y_{n-1}} (x_n) dx_n dy \n",
    "\\end{aligned}\n",
    "\n",
    "By definition of $Y_n$ it is clear that $Y_n$ and $Y_{n-1}$ are conditional independent given $X_n$ , then $f_{Y_n|X_n}(.,.)=f_{Y_n|X_n, Y_{n-1}}(.,.,Y_{n-1})$ \n",
    "\n",
    "\\begin{aligned}\n",
    "\\int_A \\int_{\\mathbb{R}^P} f_{y|x_n}(x_n,y) f_{x_n|Y_{n-1}} (x_n) dx_n dy &= \\int_A \\int_{\\mathbb{R}^P} f_{y|x_n,y_{n+1}}(x_n,y,Y_{n-1}) f_{x_n|Y_{n-1}} (x_n) dx_n dy \\\\\n",
    "&= \\int_A f_{y|y_{n+1}}(y,Y_{n-1}) dy\n",
    "\\end{aligned}\n",
    "\n",
    "Then as the function only depends on the last value of the chain, the function is a Marckov chain.\n",
    "\n",
    "From the proof is clear that the transition kernel is $p(y_n,y_{n+1})=f_{y_n|y_{n+1}}(y_n,y_{n-1})$."
   ]
  },
  {
   "cell_type": "markdown",
   "metadata": {},
   "source": [
    "It is easy to show that $f(y)$ is invariant under the chaine. \n",
    "$$\\int_R f_{y|y_{n+1}}(y,y_{n-1}) f(y) dy == f(y_{n+1})=f(y)$$"
   ]
  },
  {
   "cell_type": "markdown",
   "metadata": {},
   "source": [
    "## Question 4"
   ]
  },
  {
   "cell_type": "markdown",
   "metadata": {},
   "source": [
    "Describe a Gibbs algorithm to approximate the distribution on R × R with density f."
   ]
  },
  {
   "cell_type": "markdown",
   "metadata": {},
   "source": [
    "The first step to simulate from the given distribution is to derivate the marginals distribution and conditional distributions:\n",
    "\n",
    "$$f_y(y)= y^{\\frac{3}{2}} exp(-2y) \\int_x \\frac{4}{\\sqrt{2 \\pi}} exp(-y \\frac{x^2}{2})= 4 y exp(-2y)$$\n",
    "\n",
    "then $y$ follows a gamma distribution.\n",
    "\n",
    "For $x$ we get:\n",
    "\n",
    "$$f_x(x)= \\int_y \\frac{4}{\\sqrt{2 \\pi}} \\frac{(\\frac{x^2}{2}+2)^{\\frac{5}{2}}}{(\\frac{x^2}{2}+2)^{\\frac{5}{2}}} y^{\\frac{3}{2}} exp(-y(\\frac{x^2}{2}+2)= \\frac{4 \\Gamma (\\frac{5}{2})}{\\sqrt{2 \\pi} (\\frac{x^2}{2}+2)^{\\frac{5}{2}}} $$\n",
    "\n",
    "Then the conditional densities are: \n",
    "\n",
    "$$f_{y|x}(x,y)=\\frac{(\\frac{x^2}{2}+2)^{\\frac{5}{2}}}{\\Gamma(\\frac{5}{2})} exp(-y(\\frac{x^2}{2}+2)) y^{\\frac{3}{2}}$$\n",
    "\n",
    "which is a gamma distribution.\n",
    "\n",
    "$$f_{x|y}(x,y)=\\frac{y^{\\frac{1}{2}}}{\\sqrt{2\\pi}} exp(-y(\\frac{x^2}{2}))$$\n",
    "which is a gaussian distribution.\n"
   ]
  },
  {
   "cell_type": "markdown",
   "metadata": {},
   "source": [
    "As we can see in the marginal's plots, the algorithm effectvely samples from the desired distribution.\n"
   ]
  },
  {
   "cell_type": "code",
   "execution_count": 11,
   "metadata": {},
   "outputs": [],
   "source": [
    "def Gibbs(x0,y0,N):\n",
    "    ## Function implementing Gibbs sampling for the density of question 2.\n",
    "    ## Input\n",
    "    # x0,y0 initial points.\n",
    "    # N number of simulations.\n",
    "    simulations=np.zeros((N,2))\n",
    "    X=x0\n",
    "    Y=y0\n",
    "    for i in range(N):\n",
    "        X=np.random.normal(scale=np.sqrt(1/Y))\n",
    "        Y=np.random.gamma(shape=5./2.,scale=2/(4+X**2))\n",
    "        simulations[i,:]=[X,Y]\n",
    "    return(simulations)\n",
    "\n",
    "def f_x(x):\n",
    "    ## Function to compute the marginal of X at the point x\n",
    "    ## Input\n",
    "    # x point to valuate.\n",
    "    return((4/np.sqrt(2*np.pi))*scipy.special.gamma(5./2.)*((2/(4+x**2))**(5./2.)))"
   ]
  },
  {
   "cell_type": "code",
   "execution_count": 12,
   "metadata": {},
   "outputs": [],
   "source": [
    "x0=1\n",
    "y0=1\n",
    "N=10000\n",
    "simulations=Gibbs(x0,y0,N)\n",
    "simulations=simulations[1000:]"
   ]
  },
  {
   "cell_type": "markdown",
   "metadata": {},
   "source": [
    "## Marginal of X. "
   ]
  },
  {
   "cell_type": "code",
   "execution_count": 13,
   "metadata": {},
   "outputs": [
    {
     "data": {
      "text/plain": [
       "<matplotlib.legend.Legend at 0x2c554f8b518>"
      ]
     },
     "execution_count": 13,
     "metadata": {},
     "output_type": "execute_result"
    },
    {
     "data": {
      "image/png": "[encoded data removed]",
      "text/plain": [
       "<Figure size 432x288 with 1 Axes>"
      ]
     },
     "metadata": {
      "needs_background": "light"
     },
     "output_type": "display_data"
    }
   ],
   "source": [
    "plt.hist(simulations[:,0],bins=25,density=True,alpha=0.6,color='b')  \n",
    "x = np.linspace(start=-15,\n",
    "                stop=15, num=250)\n",
    "plt.plot(x,f_x(x), linestyle='solid', c='red', lw=3,alpha=0.8, label='Analytical (True) PDF')\n",
    "plt.legend()\n"
   ]
  },
  {
   "cell_type": "markdown",
   "metadata": {},
   "source": [
    "## Marginal of Y"
   ]
  },
  {
   "cell_type": "code",
   "execution_count": 14,
   "metadata": {},
   "outputs": [
    {
     "data": {
      "text/plain": [
       "<matplotlib.legend.Legend at 0x2c55505f7b8>"
      ]
     },
     "execution_count": 14,
     "metadata": {},
     "output_type": "execute_result"
    },
    {
     "data": {
      "image/png": "[encoded data removed]",
      "text/plain": [
       "<Figure size 432x288 with 1 Axes>"
      ]
     },
     "metadata": {
      "needs_background": "light"
     },
     "output_type": "display_data"
    }
   ],
   "source": [
    "x = np.linspace(start=scipy.stats.gamma.ppf(0.01,a=2,scale=1./2.),\n",
    "                stop=scipy.stats.gamma.ppf(0.99,a=2,scale=1./2.), num=250)\n",
    "plt.hist(simulations[:,1],bins=25,density=True,alpha=0.6,color='b')\n",
    "plt.plot(x,scipy.stats.gamma.pdf(x,a=2,scale=1./2.), linestyle='solid', c='red', lw=3,alpha=0.8, label='Analytical (True) PDF')\n",
    "plt.legend()"
   ]
  }
 ],
 "metadata": {
  "kernelspec": {
   "display_name": "Python 3",
   "language": "python",
   "name": "python3"
  },
  "language_info": {
   "codemirror_mode": {
    "name": "ipython",
    "version": 3
   },
   "file_extension": ".py",
   "mimetype": "text/x-python",
   "name": "python",
   "nbconvert_exporter": "python",
   "pygments_lexer": "ipython3",
   "version": "3.7.3"
  }
 },
 "nbformat": 4,
 "nbformat_minor": 2
}
